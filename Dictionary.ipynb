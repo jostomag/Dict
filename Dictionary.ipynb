{
 "cells": [
  {
   "cell_type": "markdown",
   "id": "43fab740",
   "metadata": {},
   "source": [
    "#  <span style=\"color:blue\">Arbetsbok: Dictionary</span>\n",
    "\n",
    "*Innehåll*:\n",
    "1. Film\n",
    "2. Material\n",
    "3. Övningar\n",
    "4. Facit Övningar\n",
    "\n"
   ]
  },
  {
   "cell_type": "markdown",
   "id": "1005c045",
   "metadata": {},
   "source": [
    "## 1. Video\n",
    "[Corey Schafer]([Socratica](https://youtu.be/XCcpzWs-CI4))\n",
    "\n",
    "[Socratica](https://youtu.be/XCcpzWs-CI4)\n",
    "\n",
    "[Kursolle](https://youtu.be/OoxQcJxDs5Q)\n",
    "\n",
    "Gör gärna de kodexempel de går i genom i filmerna."
   ]
  },
  {
   "cell_type": "markdown",
   "id": "60bf5daf",
   "metadata": {},
   "source": [
    "## 2. Material\n",
    "\n",
    "[Kursbok kap 12.2](https://drive.google.com/file/d/1fECb9iWtCXMUN_rv7ZSkJChoRYUbqcqE/view?usp=sharing) \n"
   ]
  },
  {
   "cell_type": "markdown",
   "id": "dd77eedf",
   "metadata": {},
   "source": [
    "## 3. Övningar\n",
    "\n",
    "1. [Öva på w3-schools](https://www.w3schools.com/python/python_dictionaries.asp)\n",
    "2. Uppgift 12.2\n",
    "3. Övning 12.1\n",
    "4. Utmaning: DNA- translation \n",
    "\n",
    "**Obs! Löser du uppgiften 3.4, lämna in din lösning uppgift \"DNA-translation**"
   ]
  },
  {
   "cell_type": "markdown",
   "id": "4f9549d9",
   "metadata": {},
   "source": [
    "### 3.2 uppgift 12.2\n",
    "\n",
    "Kör Python-interpretatorn i *interactive-mode* och skapa en avbildningstabell som översätter de romerska siffrorna I, V, X, L, C, D och M till vanliga heltal. Siffrorna står för 1, 5, 10, 50, 100, 500 respektive 1000. Låt söknycklarna vara texter. Testa olika sätt att skapa tabellen. Skriv också uttryck som indexerar i tabellen."
   ]
  },
  {
   "cell_type": "code",
   "execution_count": 1,
   "id": "75f84bb2",
   "metadata": {},
   "outputs": [],
   "source": [
    "# Kod uppgift 12.2"
   ]
  },
  {
   "cell_type": "markdown",
   "id": "09b5e867",
   "metadata": {},
   "source": [
    "### 3.3 övning 12.1\n",
    "\n",
    "[Morsealfabetet](https://www.bamse.se/blogg/bamses-skola-om-morse-alfabetet/) består av punkter och streck som används för att beteckna korta respektive långa signaler.\n",
    "\n",
    "Skriv ett program som läser in ett meddelande och översätter det till morsekod.\n",
    "\n",
    "Skriv därefter ett program som läser in ett meddelande givet i morsekod och som avkodar det och skriver ut meddelnadet. I det inlästa meddelandet finns ett blankt tecken mellan varje bokstav."
   ]
  },
  {
   "cell_type": "code",
   "execution_count": 2,
   "id": "d67ac8a5",
   "metadata": {},
   "outputs": [],
   "source": [
    "#Kod övning 12.1"
   ]
  },
  {
   "cell_type": "markdown",
   "id": "7e581be4",
   "metadata": {},
   "source": [
    "### 3.4 Utmaning: DNA translation\n",
    "\n",
    "I filen \"genetic_code.txt\" finns en dictionary som representerar genetisk kod. Nycklar är kodon och värden motsvarande aminosyra.\n",
    "\n",
    "Använd detta dictionary för att skriva ett program som översätter en DNA-sekvens till ett protein.\n",
    "\n",
    "Du behöver:\n",
    "- splitta DNA sekvens till kodon\n",
    "- hitta motsvarande aminosyra för varje kodon\n",
    "- sammanfoga alla aminosyror för att ge ett protein.\n",
    "\n",
    "Testa programmet på ett antal olika inmatningar och se vad som händer. Hur hanterar ditt program en sekvens som inte är en mutipel av 3? En sekvens som innehåller okända baser?\n",
    "\n",
    "\n",
    "\n",
    "<span style=\"color:red\"> **Lämna in din lösning på uppgiften \"DNA-translation\"**</span>"
   ]
  },
  {
   "cell_type": "markdown",
   "id": "b77d088f",
   "metadata": {},
   "source": [
    "## 4. Facit övningar"
   ]
  },
  {
   "cell_type": "code",
   "execution_count": null,
   "id": "cf2b3be9",
   "metadata": {},
   "outputs": [],
   "source": [
    "#uppgift 12.2\n",
    "\n",
    "#>>> rom1 = {'I' : 1, 'V' : 5, 'X' : 10, 'L' : 50, 'C' : 100, 'D' : 500, 'M' : 1000}\n",
    "#>>> rom1['L']\n",
    "#50\n",
    "\n",
    "#>>> rom2 = dict(I=1, V=5, X=10, L=50, C=100, D=500, M=1000)\n",
    "#>>> rom2['L']\n",
    "#50\n"
   ]
  },
  {
   "cell_type": "code",
   "execution_count": 3,
   "id": "10a37ec6",
   "metadata": {},
   "outputs": [
    {
     "name": "stdout",
     "output_type": "stream",
     "text": [
      "Skriv ett meddelande: hej\n",
      "Som morsekod:\n",
      ".... . .--- \n",
      "Skriv ett meddelande i morsekod: ....\n",
      "I klartext:\n",
      "h "
     ]
    }
   ],
   "source": [
    "#övning 12.1\n",
    "\n",
    "morse = ['.-',    '-...',  '-.-.', '-..',  '.',    '..-.',\n",
    "        '--.',   '....',  '..',   '.---', '-.-',  '.-..',\n",
    "        '--',    '-.',    '---',  '.--.', '--.-', '.-.',\n",
    "        '...',   '-',    '..-',  '...-', '.--',  '-..-',\n",
    "        '-.--',  '--..',  '.--.-','.-.-', '---.']\n",
    "alfabet = 'a b c d e f g h i j k l m n o p q r s t u v x y z å ä ö'.split()\n",
    "\n",
    "# Del 1\n",
    "tab1 = dict(zip(alfabet, morse))\n",
    "m1 = input('Skriv ett meddelande: ')\n",
    "print('Som morsekod:')\n",
    "for e in m1:\n",
    "    t = e.lower()\n",
    "    kod = tab1.get(t, ' ')\n",
    "    print(kod, end=' ')\n",
    "print()\n",
    "\n",
    "# Del 2\n",
    "tab2 = dict(zip(morse, alfabet))\n",
    "m2 = input('Skriv ett meddelande i morsekod: ').split()\n",
    "print('I klartext:')\n",
    "for e in m2:\n",
    "    bokstav = tab2.get(e, '?')\n",
    "    print(bokstav, end=' ')"
   ]
  },
  {
   "cell_type": "markdown",
   "id": "f3785a72",
   "metadata": {},
   "source": [
    "nbviewer länk: https://nbviewer.org/github/jostomag/Dict/blob/main/Dictionary.ipynb"
   ]
  },
  {
   "cell_type": "code",
   "execution_count": null,
   "id": "31493621",
   "metadata": {},
   "outputs": [],
   "source": []
  }
 ],
 "metadata": {
  "kernelspec": {
   "display_name": "Python 3",
   "language": "python",
   "name": "python3"
  },
  "language_info": {
   "codemirror_mode": {
    "name": "ipython",
    "version": 3
   },
   "file_extension": ".py",
   "mimetype": "text/x-python",
   "name": "python",
   "nbconvert_exporter": "python",
   "pygments_lexer": "ipython3",
   "version": "3.8.8"
  }
 },
 "nbformat": 4,
 "nbformat_minor": 5
}
